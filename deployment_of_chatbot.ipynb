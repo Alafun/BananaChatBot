{
 "cells": [
  {
   "cell_type": "markdown",
   "metadata": {
    "id": "Vj_bPuri3G5R"
   },
   "source": [
    "# 自然语言处理 （NLP-Notebook）\n",
    "  作者：[Alafun](https://github.com/Alafun)\n",
    "\n",
    "  时间：2021/11/23\n",
    "\n",
    "  描述：基于 `Seq2seq` （编码器-解码器模型） 的聊天机器人\n",
    "  \n",
    "  <details>\n",
    "    <summary><strong>Seq2seq</strong></summary>\n",
    "      <p>\n",
    "        Seq2Seq（是 Sequence-to-sequence 的缩写），就如字面意思，输入一个序列，输出另一个序列。这种结构最重要的地方在于输入序列和输出序列的长度是可变的。🤗\n",
    "      </p>\n",
    "  </details>\n",
    "\n",
    "  <img src=\"https://pytorch.org/tutorials/_images/seq2seq_ts.png\" loading=\"lazy\" alt=\"Overview\" width=\"500\" />\n",
    "\n",
    "  \n",
    "  >[一文看懂 Encoder-Decoder 和 Seq2Seq ](https://easyai.tech/ai-definition/encoder-decoder-seq2seq/)\n",
    " \n"
   ]
  },
  {
   "cell_type": "markdown",
   "metadata": {
    "id": "QUCAPlUlju1E"
   },
   "source": [
    "## 数据准备"
   ]
  },
  {
   "cell_type": "markdown",
   "metadata": {
    "id": "b_IzIKbPsoyD"
   },
   "source": [
    "#### 如果你有 GoogleDrive 的账号可以先运行这段代码\n",
    "\n",
    "目的为了将数据保持到 GoogleDrive 方便存储"
   ]
  },
  {
   "cell_type": "code",
   "execution_count": null,
   "metadata": {
    "colab": {
     "base_uri": "https://localhost:8080/"
    },
    "id": "ZpATrjq9sm_d",
    "outputId": "e8b62ef3-da58-483a-bc32-09c9ad386116"
   },
   "outputs": [
    {
     "name": "stdout",
     "output_type": "stream",
     "text": [
      "Mounted at /gdrive\n"
     ]
    }
   ],
   "source": [
    "from google.colab import drive\n",
    "drive.mount('/gdrive')\n",
    "# then click the link and enter you code"
   ]
  },
  {
   "cell_type": "code",
   "execution_count": null,
   "metadata": {
    "colab": {
     "base_uri": "https://localhost:8080/"
    },
    "id": "d4B11Hk2ty_-",
    "outputId": "6afda3d5-f5c1-4774-cb93-7161368676e7"
   },
   "outputs": [
    {
     "name": "stdout",
     "output_type": "stream",
     "text": [
      "/gdrive/MyDrive/seq2seq-chatbot\n"
     ]
    }
   ],
   "source": [
    "%cd /gdrive/MyDrive/\n",
    "# 可能不完全一样"
   ]
  },
  {
   "cell_type": "markdown",
   "metadata": {
    "id": "_w9O4gxYs0V4"
   },
   "source": [
    "#### 如果你没有谷歌账号，不要管上面的程序块，直接跳到这个cell"
   ]
  },
  {
   "cell_type": "code",
   "execution_count": null,
   "metadata": {
    "colab": {
     "base_uri": "https://localhost:8080/"
    },
    "id": "ggd8p_qZkLGK",
    "outputId": "0c512527-7aa8-45cb-e08e-3306ceeca58c"
   },
   "outputs": [
    {
     "name": "stdout",
     "output_type": "stream",
     "text": [
      "Cloning into 'seq2seq-chatbot'...\n",
      "warning: --local is ignored\n",
      "remote: Enumerating objects: 238, done.\u001B[K\n",
      "remote: Total 238 (delta 0), reused 0 (delta 0), pack-reused 238\u001B[K\n",
      "Receiving objects: 100% (238/238), 15.00 MiB | 7.52 MiB/s, done.\n",
      "Resolving deltas: 100% (112/112), done.\n",
      "/content/drive/MyDrive/seq2seq-chatbot\n",
      "data  main.py  README.md  requirements.txt\n",
      "[Errno 2] No such file or directory: 'seq2seq-chatbot/'\n",
      "/content/drive/MyDrive/seq2seq-chatbot\n"
     ]
    }
   ],
   "source": [
    "# Clone the entire repo.\n",
    "# 每次运行session 只需执行一次\n",
    "!git clone -l -s git://github.com/tensorlayer/seq2seq-chatbot.git seq2seq-chatbot\n",
    "%cd seq2seq-chatbot\n",
    "!ls\n",
    "%cd seq2seq-chatbot/"
   ]
  },
  {
   "cell_type": "code",
   "execution_count": 1,
   "metadata": {},
   "outputs": [
    {
     "name": "stdout",
     "output_type": "stream",
     "text": [
      " 驱动器 E 中的卷没有标签。\n",
      " 卷的序列号是 6AB4-7BF4\n",
      "\n",
      " E:\\code\\PyCharm\\seq2seq-chatbot 的目录\n",
      "\n",
      "2021/11/26  12:53    <DIR>          .\n",
      "2021/11/26  12:53    <DIR>          ..\n",
      "2021/11/26  00:37               212 .gitignore\n",
      "2021/11/26  12:43    <DIR>          .ipynb_checkpoints\n",
      "2021/11/26  12:52    <DIR>          data\n",
      "2021/11/26  12:53            25,705 deployment_of_chatbot.ipynb\n",
      "2021/11/26  00:37             5,180 main.py\n",
      "2021/11/26  01:56        55,206,497 model.npz\n",
      "2021/11/26  00:37             1,267 README.md\n",
      "2021/11/26  00:37                65 requirements.txt\n",
      "               6 个文件     55,238,926 字节\n",
      "               4 个目录  1,119,748,096 可用字节\n"
     ]
    }
   ],
   "source": [
    "%ls"
   ]
  },
  {
   "cell_type": "markdown",
   "metadata": {
    "id": "1WqRfMWdkncr"
   },
   "source": [
    "## 安装相关库"
   ]
  },
  {
   "cell_type": "code",
   "execution_count": 2,
   "metadata": {
    "colab": {
     "base_uri": "https://localhost:8080/"
    },
    "id": "dfWg8vrYkrDz",
    "outputId": "171beabe-f336-4c5a-b48f-b201a9206529"
   },
   "outputs": [
    {
     "name": "stdout",
     "output_type": "stream",
     "text": [
      "Looking in indexes: https://pypi.tuna.tsinghua.edu.cn/simple\n",
      "Requirement already satisfied: scikit-learn in e:\\code\\pycharm\\venv\\lib\\site-packages (from -r requirements.txt (line 1)) (1.0.1)\n",
      "Requirement already satisfied: tensorflow in e:\\code\\pycharm\\venv\\lib\\site-packages (from -r requirements.txt (line 2)) (2.7.0)\n",
      "Requirement already satisfied: tensorlayer in e:\\code\\pycharm\\venv\\lib\\site-packages (from -r requirements.txt (line 3)) (2.2.3)\n",
      "Requirement already satisfied: numpy in e:\\code\\pycharm\\venv\\lib\\site-packages (from -r requirements.txt (line 4)) (1.21.2)\n",
      "Requirement already satisfied: click in e:\\code\\pycharm\\venv\\lib\\site-packages (from -r requirements.txt (line 5)) (8.0.1)\n",
      "Requirement already satisfied: tqdm in e:\\code\\pycharm\\venv\\lib\\site-packages (from -r requirements.txt (line 6)) (4.62.2)\n",
      "Requirement already satisfied: nltk in e:\\code\\pycharm\\venv\\lib\\site-packages (from -r requirements.txt (line 7)) (3.6.2)\n",
      "Requirement already satisfied: threadpoolctl>=2.0.0 in e:\\code\\pycharm\\venv\\lib\\site-packages (from scikit-learn->-r requirements.txt (line 1)) (3.0.0)\n",
      "Requirement already satisfied: joblib>=0.11 in e:\\code\\pycharm\\venv\\lib\\site-packages (from scikit-learn->-r requirements.txt (line 1)) (1.0.1)\n",
      "Requirement already satisfied: scipy>=1.1.0 in e:\\code\\pycharm\\venv\\lib\\site-packages (from scikit-learn->-r requirements.txt (line 1)) (1.7.1)\n",
      "Requirement already satisfied: keras-preprocessing>=1.1.1 in e:\\code\\pycharm\\venv\\lib\\site-packages (from tensorflow->-r requirements.txt (line 2)) (1.1.2)\n",
      "Requirement already satisfied: termcolor>=1.1.0 in e:\\code\\pycharm\\venv\\lib\\site-packages (from tensorflow->-r requirements.txt (line 2)) (1.1.0)\n",
      "Requirement already satisfied: six>=1.12.0 in e:\\code\\pycharm\\venv\\lib\\site-packages (from tensorflow->-r requirements.txt (line 2)) (1.16.0)\n",
      "Requirement already satisfied: typing-extensions>=3.6.6 in e:\\code\\pycharm\\venv\\lib\\site-packages (from tensorflow->-r requirements.txt (line 2)) (4.0.0)\n",
      "Requirement already satisfied: h5py>=2.9.0 in e:\\code\\pycharm\\venv\\lib\\site-packages (from tensorflow->-r requirements.txt (line 2)) (3.5.0)\n",
      "Requirement already satisfied: keras<2.8,>=2.7.0rc0 in e:\\code\\pycharm\\venv\\lib\\site-packages (from tensorflow->-r requirements.txt (line 2)) (2.7.0)\n",
      "Requirement already satisfied: flatbuffers<3.0,>=1.12 in e:\\code\\pycharm\\venv\\lib\\site-packages (from tensorflow->-r requirements.txt (line 2)) (2.0)\n",
      "Requirement already satisfied: google-pasta>=0.1.1 in e:\\code\\pycharm\\venv\\lib\\site-packages (from tensorflow->-r requirements.txt (line 2)) (0.2.0)\n",
      "Requirement already satisfied: opt-einsum>=2.3.2 in e:\\code\\pycharm\\venv\\lib\\site-packages (from tensorflow->-r requirements.txt (line 2)) (3.3.0)\n",
      "Requirement already satisfied: tensorflow-io-gcs-filesystem>=0.21.0 in e:\\code\\pycharm\\venv\\lib\\site-packages (from tensorflow->-r requirements.txt (line 2)) (0.22.0)\n",
      "Requirement already satisfied: libclang>=9.0.1 in e:\\code\\pycharm\\venv\\lib\\site-packages (from tensorflow->-r requirements.txt (line 2)) (12.0.0)\n",
      "Requirement already satisfied: protobuf>=3.9.2 in e:\\code\\pycharm\\venv\\lib\\site-packages (from tensorflow->-r requirements.txt (line 2)) (3.19.1)\n",
      "Requirement already satisfied: tensorboard~=2.6 in e:\\code\\pycharm\\venv\\lib\\site-packages (from tensorflow->-r requirements.txt (line 2)) (2.7.0)\n",
      "Requirement already satisfied: wheel<1.0,>=0.32.0 in e:\\code\\pycharm\\venv\\lib\\site-packages (from tensorflow->-r requirements.txt (line 2)) (0.36.2)\n",
      "Requirement already satisfied: gast<0.5.0,>=0.2.1 in e:\\code\\pycharm\\venv\\lib\\site-packages (from tensorflow->-r requirements.txt (line 2)) (0.4.0)\n",
      "Requirement already satisfied: tensorflow-estimator<2.8,~=2.7.0rc0 in e:\\code\\pycharm\\venv\\lib\\site-packages (from tensorflow->-r requirements.txt (line 2)) (2.7.0)\n",
      "Requirement already satisfied: astunparse>=1.6.0 in e:\\code\\pycharm\\venv\\lib\\site-packages (from tensorflow->-r requirements.txt (line 2)) (1.6.3)\n",
      "Requirement already satisfied: wrapt>=1.11.0 in e:\\code\\pycharm\\venv\\lib\\site-packages (from tensorflow->-r requirements.txt (line 2)) (1.13.3)\n",
      "Requirement already satisfied: absl-py>=0.4.0 in e:\\code\\pycharm\\venv\\lib\\site-packages (from tensorflow->-r requirements.txt (line 2)) (1.0.0)\n",
      "Requirement already satisfied: grpcio<2.0,>=1.24.3 in e:\\code\\pycharm\\venv\\lib\\site-packages (from tensorflow->-r requirements.txt (line 2)) (1.41.1)\n",
      "Requirement already satisfied: cloudpickle>=0.8.1 in e:\\code\\pycharm\\venv\\lib\\site-packages (from tensorlayer->-r requirements.txt (line 3)) (2.0.0)\n",
      "Requirement already satisfied: requests>=2.21.0 in e:\\code\\pycharm\\venv\\lib\\site-packages (from tensorlayer->-r requirements.txt (line 3)) (2.26.0)\n",
      "Requirement already satisfied: progressbar2>=3.39.3 in e:\\code\\pycharm\\venv\\lib\\site-packages (from tensorlayer->-r requirements.txt (line 3)) (3.55.0)\n",
      "Requirement already satisfied: scikit-image>=0.15.0 in e:\\code\\pycharm\\venv\\lib\\site-packages (from tensorlayer->-r requirements.txt (line 3)) (0.18.3)\n",
      "Requirement already satisfied: imageio>=2.5.0 in e:\\code\\pycharm\\venv\\lib\\site-packages (from tensorlayer->-r requirements.txt (line 3)) (2.12.0)\n",
      "Requirement already satisfied: colorama in e:\\code\\pycharm\\venv\\lib\\site-packages (from click->-r requirements.txt (line 5)) (0.4.4)\n",
      "Requirement already satisfied: regex in e:\\code\\pycharm\\venv\\lib\\site-packages (from nltk->-r requirements.txt (line 7)) (2021.8.28)\n",
      "Requirement already satisfied: pillow>=8.3.2 in e:\\code\\pycharm\\venv\\lib\\site-packages (from imageio>=2.5.0->tensorlayer->-r requirements.txt (line 3)) (8.3.2)\n",
      "Requirement already satisfied: python-utils>=2.3.0 in e:\\code\\pycharm\\venv\\lib\\site-packages (from progressbar2>=3.39.3->tensorlayer->-r requirements.txt (line 3)) (2.5.6)\n",
      "Requirement already satisfied: certifi>=2017.4.17 in e:\\code\\pycharm\\venv\\lib\\site-packages (from requests>=2.21.0->tensorlayer->-r requirements.txt (line 3)) (2021.10.8)\n",
      "Requirement already satisfied: idna<4,>=2.5 in e:\\code\\pycharm\\venv\\lib\\site-packages (from requests>=2.21.0->tensorlayer->-r requirements.txt (line 3)) (3.2)\n",
      "Requirement already satisfied: urllib3<1.27,>=1.21.1 in e:\\code\\pycharm\\venv\\lib\\site-packages (from requests>=2.21.0->tensorlayer->-r requirements.txt (line 3)) (1.26.7)\n",
      "Requirement already satisfied: charset-normalizer~=2.0.0 in e:\\code\\pycharm\\venv\\lib\\site-packages (from requests>=2.21.0->tensorlayer->-r requirements.txt (line 3)) (2.0.7)\n",
      "Requirement already satisfied: PyWavelets>=1.1.1 in e:\\code\\pycharm\\venv\\lib\\site-packages (from scikit-image>=0.15.0->tensorlayer->-r requirements.txt (line 3)) (1.2.0)\n",
      "Requirement already satisfied: networkx>=2.0 in e:\\code\\pycharm\\venv\\lib\\site-packages (from scikit-image>=0.15.0->tensorlayer->-r requirements.txt (line 3)) (2.6.3)\n",
      "Requirement already satisfied: tifffile>=2019.7.26 in e:\\code\\pycharm\\venv\\lib\\site-packages (from scikit-image>=0.15.0->tensorlayer->-r requirements.txt (line 3)) (2021.11.2)\n",
      "Requirement already satisfied: matplotlib!=3.0.0,>=2.0.0 in e:\\code\\pycharm\\venv\\lib\\site-packages (from scikit-image>=0.15.0->tensorlayer->-r requirements.txt (line 3)) (3.4.3)\n",
      "Requirement already satisfied: werkzeug>=0.11.15 in e:\\code\\pycharm\\venv\\lib\\site-packages (from tensorboard~=2.6->tensorflow->-r requirements.txt (line 2)) (2.0.2)\n",
      "Requirement already satisfied: google-auth-oauthlib<0.5,>=0.4.1 in e:\\code\\pycharm\\venv\\lib\\site-packages (from tensorboard~=2.6->tensorflow->-r requirements.txt (line 2)) (0.4.6)\n",
      "Requirement already satisfied: tensorboard-data-server<0.7.0,>=0.6.0 in e:\\code\\pycharm\\venv\\lib\\site-packages (from tensorboard~=2.6->tensorflow->-r requirements.txt (line 2)) (0.6.1)\n",
      "Requirement already satisfied: markdown>=2.6.8 in e:\\code\\pycharm\\venv\\lib\\site-packages (from tensorboard~=2.6->tensorflow->-r requirements.txt (line 2)) (3.3.4)\n",
      "Requirement already satisfied: tensorboard-plugin-wit>=1.6.0 in e:\\code\\pycharm\\venv\\lib\\site-packages (from tensorboard~=2.6->tensorflow->-r requirements.txt (line 2)) (1.8.0)\n",
      "Requirement already satisfied: setuptools>=41.0.0 in e:\\code\\pycharm\\venv\\lib\\site-packages (from tensorboard~=2.6->tensorflow->-r requirements.txt (line 2)) (57.0.0)\n",
      "Requirement already satisfied: google-auth<3,>=1.6.3 in e:\\code\\pycharm\\venv\\lib\\site-packages (from tensorboard~=2.6->tensorflow->-r requirements.txt (line 2)) (2.3.3)\n",
      "Requirement already satisfied: pyasn1-modules>=0.2.1 in e:\\code\\pycharm\\venv\\lib\\site-packages (from google-auth<3,>=1.6.3->tensorboard~=2.6->tensorflow->-r requirements.txt (line 2)) (0.2.8)\n",
      "Requirement already satisfied: cachetools<5.0,>=2.0.0 in e:\\code\\pycharm\\venv\\lib\\site-packages (from google-auth<3,>=1.6.3->tensorboard~=2.6->tensorflow->-r requirements.txt (line 2)) (4.2.4)\n",
      "Requirement already satisfied: rsa<5,>=3.1.4 in e:\\code\\pycharm\\venv\\lib\\site-packages (from google-auth<3,>=1.6.3->tensorboard~=2.6->tensorflow->-r requirements.txt (line 2)) (4.7.2)\n",
      "Requirement already satisfied: requests-oauthlib>=0.7.0 in e:\\code\\pycharm\\venv\\lib\\site-packages (from google-auth-oauthlib<0.5,>=0.4.1->tensorboard~=2.6->tensorflow->-r requirements.txt (line 2)) (1.3.0)\n",
      "Requirement already satisfied: pyparsing>=2.2.1 in e:\\code\\pycharm\\venv\\lib\\site-packages (from matplotlib!=3.0.0,>=2.0.0->scikit-image>=0.15.0->tensorlayer->-r requirements.txt (line 3)) (2.4.7)\n",
      "Requirement already satisfied: python-dateutil>=2.7 in e:\\code\\pycharm\\venv\\lib\\site-packages (from matplotlib!=3.0.0,>=2.0.0->scikit-image>=0.15.0->tensorlayer->-r requirements.txt (line 3)) (2.8.2)\n",
      "Requirement already satisfied: cycler>=0.10 in e:\\code\\pycharm\\venv\\lib\\site-packages (from matplotlib!=3.0.0,>=2.0.0->scikit-image>=0.15.0->tensorlayer->-r requirements.txt (line 3)) (0.10.0)\n",
      "Requirement already satisfied: kiwisolver>=1.0.1 in e:\\code\\pycharm\\venv\\lib\\site-packages (from matplotlib!=3.0.0,>=2.0.0->scikit-image>=0.15.0->tensorlayer->-r requirements.txt (line 3)) (1.3.2)\n",
      "Requirement already satisfied: pyasn1<0.5.0,>=0.4.6 in e:\\code\\pycharm\\venv\\lib\\site-packages (from pyasn1-modules>=0.2.1->google-auth<3,>=1.6.3->tensorboard~=2.6->tensorflow->-r requirements.txt (line 2)) (0.4.8)\n",
      "Requirement already satisfied: oauthlib>=3.0.0 in e:\\code\\pycharm\\venv\\lib\\site-packages (from requests-oauthlib>=0.7.0->google-auth-oauthlib<0.5,>=0.4.1->tensorboard~=2.6->tensorflow->-r requirements.txt (line 2)) (3.1.1)\n"
     ]
    }
   ],
   "source": [
    "!pip install -r requirements.txt"
   ]
  },
  {
   "cell_type": "markdown",
   "metadata": {
    "id": "OkUOgOEuj4ai"
   },
   "source": [
    "## 导入相关库"
   ]
  },
  {
   "cell_type": "code",
   "execution_count": 3,
   "metadata": {
    "id": "0o77XgHRkRcP"
   },
   "outputs": [],
   "source": [
    "import tensorflow as tf\n",
    "import tensorlayer as tl\n",
    "import numpy as np\n",
    "from tensorlayer.cost import cross_entropy_seq, cross_entropy_seq_with_mask\n",
    "from tqdm import tqdm\n",
    "from sklearn.utils import shuffle\n",
    "from data.twitter import data\n",
    "from tensorlayer.models.seq2seq import Seq2seq\n",
    "from tensorlayer.models.seq2seq_with_attention import Seq2seqLuongAttention\n",
    "import os"
   ]
  },
  {
   "cell_type": "markdown",
   "metadata": {
    "id": "VFkv5cU2jyik"
   },
   "source": [
    "## 定义函数"
   ]
  },
  {
   "cell_type": "markdown",
   "metadata": {
    "id": "VQ2VmwNRlNkG"
   },
   "source": [
    "### 定义初始化函数"
   ]
  },
  {
   "cell_type": "code",
   "execution_count": 4,
   "metadata": {
    "id": "DJDRCttgi7Pk"
   },
   "outputs": [],
   "source": [
    "      \"\"\"\n",
    "      加载数据\n",
    "      将语料库的数据分配给参数\n",
    "      \"\"\"\n",
    "def initial_setup(data_corpus):\n",
    "    metadata, idx_q, idx_a = data.load_data(PATH='data/{}/'.format(data_corpus))\n",
    "    (trainX, trainY), (testX, testY), (validX, validY) = data.split_dataset(idx_q, idx_a)\n",
    "    trainX = tl.prepro.remove_pad_sequences(trainX.tolist())\n",
    "    trainY = tl.prepro.remove_pad_sequences(trainY.tolist())\n",
    "    testX = tl.prepro.remove_pad_sequences(testX.tolist())\n",
    "    testY = tl.prepro.remove_pad_sequences(testY.tolist())\n",
    "    validX = tl.prepro.remove_pad_sequences(validX.tolist())\n",
    "    validY = tl.prepro.remove_pad_sequences(validY.tolist())\n",
    "    return metadata, trainX, trainY, testX, testY, validX, validY\n"
   ]
  },
  {
   "cell_type": "markdown",
   "metadata": {
    "id": "Pgbt1CFWnpzf"
   },
   "source": [
    "### 入口"
   ]
  },
  {
   "cell_type": "code",
   "execution_count": 5,
   "metadata": {
    "colab": {
     "base_uri": "https://localhost:8080/"
    },
    "id": "W8Zy3sbenpQ6",
    "outputId": "6680f8cb-2055-49ca-a22e-f5f7a7fbb55b"
   },
   "outputs": [
    {
     "name": "stdout",
     "output_type": "stream",
     "text": [
      "[TL] Embedding embedding_1: (8004, 1024)\n",
      "[TL] RNN rnn_1: cell: GRUCell, n_units: 256\n",
      "[TL] RNN rnn_2: cell: GRUCell, n_units: 256\n",
      "[TL] RNN rnn_3: cell: GRUCell, n_units: 256\n",
      "[TL] RNN rnn_4: cell: GRUCell, n_units: 256\n",
      "[TL] RNN rnn_5: cell: GRUCell, n_units: 256\n",
      "[TL] RNN rnn_6: cell: GRUCell, n_units: 256\n",
      "[TL] Reshape reshape_1\n",
      "[TL] Dense  dense_1: 8004 No Activation\n",
      "[TL] Reshape reshape_2\n",
      "[TL] Reshape reshape_3\n"
     ]
    },
    {
     "name": "stderr",
     "output_type": "stream",
     "text": [
      "                                                                                                                                                                                          \r"
     ]
    },
    {
     "name": "stdout",
     "output_type": "stream",
     "text": [
      "Epoch [1/5]: loss 5.0189\n",
      "Query > happy birthday have a nice day\n",
      " > thank u  love u\n",
      " > thank god you love me too much\n",
      " > thank god   \n",
      "Query > donald trump won last nights presidential debate according to snap online polls\n",
      " > i am not sure if he was born\n",
      " > i am going on the same way\n",
      " > i dont know how much\n",
      "[TL] [*] Saving TL weights into model.npz\n"
     ]
    },
    {
     "name": "stderr",
     "output_type": "stream",
     "text": [
      "E:\\code\\PyCharm\\venv\\lib\\site-packages\\numpy\\lib\\npyio.py:719: VisibleDeprecationWarning: Creating an ndarray from ragged nested sequences (which is a list-or-tuple of lists-or-tuples-or ndarrays with different lengths or shapes) is deprecated. If you meant to do this, you must specify 'dtype=object' when creating the ndarray.\n",
      "  val = np.asanyarray(val)\n"
     ]
    },
    {
     "name": "stdout",
     "output_type": "stream",
     "text": [
      "[TL] [*] Saved\n"
     ]
    },
    {
     "name": "stderr",
     "output_type": "stream",
     "text": [
      "                                                                                                                   \r"
     ]
    },
    {
     "name": "stdout",
     "output_type": "stream",
     "text": [
      "Epoch [2/5]: loss 4.7462\n",
      "Query > happy birthday have a nice day\n",
      " > thank you \n",
      " > thank you \n",
      " > thank u so much i miss it too \n",
      "Query > donald trump won last nights presidential debate according to snap online polls\n",
      " >  he needs to get the truth to the american people\n",
      " >  he needs a new york and a half\n",
      " >  i am not saying this\n",
      "[TL] [*] Saving TL weights into model.npz\n",
      "[TL] [*] Saved\n"
     ]
    },
    {
     "name": "stderr",
     "output_type": "stream",
     "text": [
      "                                                                                                                   \r"
     ]
    },
    {
     "name": "stdout",
     "output_type": "stream",
     "text": [
      "Epoch [3/5]: loss 4.5309\n",
      "Query > happy birthday have a nice day\n",
      " > thank you i miss you so well soon\n",
      " > thank god you love me \n",
      " > thank you i appreciate it i appreciate you\n",
      "Query > donald trump won last nights presidential debate according to snap online polls\n",
      " > he admitted that was the reason to read\n",
      " > he has no stamina for the other people in his campaign\n",
      " > he is a liar for the presidency of the debate\n",
      "[TL] [*] Saving TL weights into model.npz\n",
      "[TL] [*] Saved\n"
     ]
    },
    {
     "name": "stderr",
     "output_type": "stream",
     "text": [
      "                                                                                                                   \r"
     ]
    },
    {
     "name": "stdout",
     "output_type": "stream",
     "text": [
      "Epoch [4/5]: loss 4.3351\n",
      "Query > happy birthday have a nice day\n",
      " > thanks girl miss ya too\n",
      " > thanks girl i miss it too  i appreciate you   \n",
      " > thanks brotha appreciate the     xo\n",
      "Query > donald trump won last nights presidential debate according to snap online polls\n",
      " > he is the only racist he has to get his ass on his hands \n",
      " > he is not the worst of america  he is the best\n",
      " > he was an idiot and hes a coke coke\n",
      "[TL] [*] Saving TL weights into model.npz\n",
      "[TL] [*] Saved\n"
     ]
    },
    {
     "name": "stderr",
     "output_type": "stream",
     "text": [
      "                                                                                                                   \r"
     ]
    },
    {
     "name": "stdout",
     "output_type": "stream",
     "text": [
      "Epoch [5/5]: loss 4.1476\n",
      "Query > happy birthday have a nice day\n",
      " > thanks al love you so well deserved \n",
      " > thanks brotha miss you so many\n",
      " > thanks brotha miss you too\n",
      "Query > donald trump won last nights presidential debate according to snap online polls\n",
      " > trump is an idiot\n",
      " > trump will be a president\n",
      " > trump should not be fired for the rest of his career or the other time we will see us in\n",
      "[TL] [*] Saving TL weights into model.npz\n",
      "[TL] [*] Saved\n"
     ]
    }
   ],
   "source": [
    "if __name__ == \"__main__\":\n",
    "    data_corpus = \"twitter\"  # 定义corpus为twitter可换成自己的语料库\n",
    "\n",
    "    #data preprocessing\n",
    "    metadata, trainX, trainY, testX, testY, validX, validY = initial_setup(data_corpus)\n",
    "\n",
    "    # Parameters\n",
    "    src_len = len(trainX)\n",
    "    tgt_len = len(trainY)\n",
    "\n",
    "    assert src_len == tgt_len\n",
    "\n",
    "    batch_size = 32\n",
    "    n_step = src_len // batch_size\n",
    "    src_vocab_size = len(metadata['idx2w']) # 8002 (0~8001)\n",
    "    emb_dim = 1024\n",
    "\n",
    "    word2idx = metadata['w2idx']   # dict  word 2 index\n",
    "    idx2word = metadata['idx2w']   # list index 2 word\n",
    "\n",
    "    unk_id = word2idx['unk']   # 1\n",
    "    pad_id = word2idx['_']     # 0\n",
    "\n",
    "    start_id = src_vocab_size  # 8002\n",
    "    end_id = src_vocab_size + 1  # 8003\n",
    "\n",
    "    word2idx.update({'start_id': start_id})\n",
    "    word2idx.update({'end_id': end_id})\n",
    "    idx2word = idx2word + ['start_id', 'end_id']\n",
    "\n",
    "    src_vocab_size = tgt_vocab_size = src_vocab_size + 2\n",
    "\n",
    "    num_epochs = 5    # 迭代轮数 初始为50；\n",
    "    vocabulary_size = src_vocab_size\n",
    "    \n",
    "\n",
    "\n",
    "    def inference(seed, top_n):\n",
    "        model_.eval()\n",
    "        seed_id = [word2idx.get(w, unk_id) for w in seed.split(\" \")]\n",
    "        sentence_id = model_(inputs=[[seed_id]], seq_length=20, start_token=start_id, top_n = top_n)\n",
    "        sentence = []\n",
    "        for w_id in sentence_id[0]:\n",
    "            w = idx2word[w_id]\n",
    "            if w == 'end_id':\n",
    "                break\n",
    "            sentence = sentence + [w]\n",
    "        return sentence\n",
    "\n",
    "    decoder_seq_length = 20\n",
    "    model_ = Seq2seq(\n",
    "        decoder_seq_length = decoder_seq_length,\n",
    "        cell_enc=tf.keras.layers.GRUCell,\n",
    "        cell_dec=tf.keras.layers.GRUCell,\n",
    "        n_layer=3,\n",
    "        n_units=256,\n",
    "        embedding_layer=tl.layers.Embedding(vocabulary_size=vocabulary_size, embedding_size=emb_dim),\n",
    "        )\n",
    "    \n",
    "\n",
    "    # Uncomment below statements if you have already saved the model\n",
    "\n",
    "    # load_weights = tl.files.load_npz(name='model.npz')\n",
    "    # tl.files.assign_weights(load_weights, model_)\n",
    "    \n",
    "    load_weights = tl.files.load_npz(name='model.npz')\n",
    "    tl.files.assign_weights(load_weights, model_)\n",
    "\n",
    "    #########################################\n",
    "    \n",
    "    optimizer = tf.optimizers.Adam(learning_rate=0.001) # adm优化器\n",
    "    model_.train()\n",
    "\n",
    "    seeds = [\"happy birthday have a nice day\",\n",
    "                 \"donald trump won last nights presidential debate according to snap online polls\"]\n",
    "    for epoch in range(num_epochs):\n",
    "        # 模型训练\n",
    "        model_.train()\n",
    "        \n",
    "        #shuffle\n",
    "        trainX, trainY = shuffle(trainX, trainY, random_state=0)\n",
    "        total_loss, n_iter = 0, 0\n",
    "        \n",
    "        # tqdm进度条\n",
    "        for X, Y in tqdm(tl.iterate.minibatches(inputs=trainX, targets=trainY, batch_size=batch_size, shuffle=False), \n",
    "                        total=n_step, desc='Epoch[{}/{}]'.format(epoch + 1, num_epochs), leave=False):\n",
    "\n",
    "            X = tl.prepro.pad_sequences(X)\n",
    "            _target_seqs = tl.prepro.sequences_add_end_id(Y, end_id=end_id)\n",
    "            _target_seqs = tl.prepro.pad_sequences(_target_seqs, maxlen=decoder_seq_length)\n",
    "            _decode_seqs = tl.prepro.sequences_add_start_id(Y, start_id=start_id, remove_last=False)\n",
    "            _decode_seqs = tl.prepro.pad_sequences(_decode_seqs, maxlen=decoder_seq_length)\n",
    "            _target_mask = tl.prepro.sequences_get_mask(_target_seqs)\n",
    "\n",
    "            with tf.GradientTape() as tape:\n",
    "                ## compute outputs\n",
    "                output = model_(inputs = [X, _decode_seqs])\n",
    "                \n",
    "                output = tf.reshape(output, [-1, vocabulary_size])\n",
    "                ## compute loss and update model\n",
    "                loss = cross_entropy_seq_with_mask(logits=output, target_seqs=_target_seqs, input_mask=_target_mask)\n",
    "\n",
    "                grad = tape.gradient(loss, model_.all_weights)\n",
    "                optimizer.apply_gradients(zip(grad, model_.all_weights))\n",
    "            \n",
    "            total_loss += loss\n",
    "            n_iter += 1\n",
    "\n",
    "        # printing average loss after every epoch\n",
    "        print('Epoch [{}/{}]: loss {:.4f}'.format(epoch + 1, num_epochs, total_loss / n_iter))\n",
    "\n",
    "        for seed in seeds:\n",
    "            print(\"Query >\", seed)\n",
    "            top_n = 3\n",
    "            for i in range(top_n):\n",
    "                sentence = inference(seed, top_n)\n",
    "                print(\" >\", ' '.join(sentence))\n",
    "\n",
    "        tl.files.save_npz(model_.all_weights, name='model.npz')"
   ]
  },
  {
   "cell_type": "code",
   "execution_count": 13,
   "metadata": {},
   "outputs": [],
   "source": [
    "npz=np.load(\"model.npz\",allow_pickle=True)"
   ]
  },
  {
   "cell_type": "code",
   "execution_count": 14,
   "metadata": {},
   "outputs": [
    {
     "data": {
      "text/plain": [
       "['params']"
      ]
     },
     "execution_count": 14,
     "metadata": {},
     "output_type": "execute_result"
    }
   ],
   "source": [
    "npz.files"
   ]
  },
  {
   "cell_type": "code",
   "execution_count": 16,
   "metadata": {},
   "outputs": [
    {
     "data": {
      "text/plain": [
       "array([array([[-0.10055935, -0.33314782,  0.00701442, ...,  0.09860136,\n",
       "                0.15007073, -0.05226222],\n",
       "              [ 0.07286207,  0.24003172,  0.03290554, ..., -0.08757132,\n",
       "                0.18949363, -0.18126886],\n",
       "              [ 0.00704551,  0.1703544 ,  0.10520507, ...,  0.0008816 ,\n",
       "               -0.10193058,  0.08364528],\n",
       "              ...,\n",
       "              [-0.09227795,  0.4044721 , -0.0742581 , ...,  0.09593895,\n",
       "               -0.148178  ,  0.05280496],\n",
       "              [-0.00868996, -0.22137943, -0.17080946, ..., -0.11631478,\n",
       "               -0.0565454 ,  0.04014151],\n",
       "              [ 0.14837095,  0.04824803, -0.13587292, ..., -0.08375482,\n",
       "                0.25499883, -0.05871639]], dtype=float32)              ,\n",
       "       array([[-0.04944015, -0.12472489,  0.00115804, ...,  0.03284711,\n",
       "                0.06106395, -0.04631912],\n",
       "              [ 0.13042727,  0.1995454 , -0.34676737, ..., -0.02441607,\n",
       "               -0.08482856,  0.3381039 ],\n",
       "              [-0.05265179,  0.20616782, -0.08949872, ...,  0.15157096,\n",
       "                0.2384342 , -0.31688341],\n",
       "              ...,\n",
       "              [ 0.09132354,  0.04973275,  0.02387712, ..., -0.29471582,\n",
       "                0.04327432,  0.104831  ],\n",
       "              [ 0.01904734,  0.02150358,  0.11006165, ...,  0.04194252,\n",
       "               -0.07261643, -0.221363  ],\n",
       "              [ 0.10013793, -0.04225086, -0.29217464, ..., -0.03367024,\n",
       "               -0.09955626, -0.26857457]], dtype=float32)              ,\n",
       "       array([[ 0.07492748, -0.10443871, -0.21347767, ..., -0.09240436,\n",
       "               -0.0240439 ,  0.22746488],\n",
       "              [ 0.07492748, -0.10443871, -0.21347767, ...,  0.05825504,\n",
       "                0.1123062 ,  0.16327462]], dtype=float32)              ,\n",
       "       array([[-0.09336518,  0.10807127,  0.03824946, ..., -0.20698991,\n",
       "                0.01215487, -0.0600987 ],\n",
       "              [-0.10671911, -0.10520785,  0.20291586, ...,  0.03990201,\n",
       "                0.22937532, -0.1812152 ],\n",
       "              [-0.02843676, -0.02390133, -0.13818982, ..., -0.06007613,\n",
       "               -0.03255777,  0.05660109],\n",
       "              ...,\n",
       "              [-0.02538318, -0.06930659,  0.20861177, ..., -0.05112372,\n",
       "               -0.19690481, -0.0056064 ],\n",
       "              [ 0.14452519, -0.24149857, -0.14348735, ..., -0.38531756,\n",
       "               -0.21215504, -0.0723122 ],\n",
       "              [ 0.0812692 ,  0.04403242, -0.14825131, ...,  0.04327079,\n",
       "                0.20484343,  0.07534637]], dtype=float32)              ,\n",
       "       array([[ 0.13628486,  0.14496124,  0.09749617, ...,  0.08834191,\n",
       "               -0.14467832,  0.21646743],\n",
       "              [-0.14989436, -0.01557839, -0.05704055, ...,  0.29189214,\n",
       "                0.06838638,  0.01414303],\n",
       "              [-0.03889264,  0.11077551,  0.0298271 , ..., -0.17238657,\n",
       "               -0.08333439,  0.02416268],\n",
       "              ...,\n",
       "              [ 0.04331504,  0.00814716, -0.20227583, ..., -0.45032823,\n",
       "                0.15905875,  0.06580957],\n",
       "              [-0.09352452,  0.17209455,  0.0294272 , ..., -0.01918366,\n",
       "                0.03531177, -0.1358177 ],\n",
       "              [ 0.02797555, -0.15796323, -0.14259261, ...,  0.04686752,\n",
       "                0.18618044, -0.11728527]], dtype=float32)              ,\n",
       "       array([[ 0.1168428 , -0.11783458, -0.06569002, ...,  0.01467088,\n",
       "               -0.00858521, -0.02021392],\n",
       "              [ 0.1168428 , -0.11783458, -0.06569002, ..., -0.05638016,\n",
       "               -0.08231813, -0.01185258]], dtype=float32)              ,\n",
       "       array([[-0.16974911, -0.0782019 , -0.05485604, ...,  0.09547483,\n",
       "                0.05997353,  0.02745447],\n",
       "              [ 0.05063732, -0.2132158 , -0.08233715, ...,  0.04813366,\n",
       "                0.1270591 , -0.18542123],\n",
       "              [-0.05358334,  0.13763343,  0.11234105, ..., -0.05916833,\n",
       "               -0.2430044 ,  0.06221379],\n",
       "              ...,\n",
       "              [-0.00220917,  0.0943102 ,  0.03217679, ..., -0.19440453,\n",
       "                0.0625164 ,  0.16264649],\n",
       "              [-0.02910926, -0.10570113,  0.01401507, ...,  0.1411386 ,\n",
       "               -0.04488238,  0.02307914],\n",
       "              [ 0.1383466 ,  0.07959765, -0.06120022, ..., -0.06403831,\n",
       "                0.08091307, -0.22818673]], dtype=float32)              ,\n",
       "       array([[-0.27613658, -0.08751423,  0.04388037, ..., -0.00460313,\n",
       "                0.0550828 , -0.01665833],\n",
       "              [ 0.11230044, -0.60317665,  0.0088325 , ...,  0.03204133,\n",
       "               -0.0271577 , -0.00541943],\n",
       "              [ 0.20358787, -0.04101531, -0.11986247, ...,  0.16527133,\n",
       "                0.2559933 ,  0.10325795],\n",
       "              ...,\n",
       "              [ 0.01939603,  0.0401411 , -0.05310873, ..., -0.15914518,\n",
       "               -0.07706928,  0.19433431],\n",
       "              [ 0.08256488,  0.0552596 , -0.06717859, ...,  0.00080149,\n",
       "                0.08582321,  0.13549146],\n",
       "              [-0.15626909,  0.04665393, -0.04875161, ..., -0.16343848,\n",
       "                0.00541004, -0.39014858]], dtype=float32)              ,\n",
       "       array([[ 0.02473022,  0.06337144, -0.18573906, ...,  0.05219796,\n",
       "                0.08489458,  0.09964863],\n",
       "              [ 0.02473022,  0.06337144, -0.18573906, ...,  0.100264  ,\n",
       "                0.03722429,  0.04567157]], dtype=float32)              ,\n",
       "       array([[ 0.21079655,  0.26213792, -0.07218412, ...,  0.15950471,\n",
       "                0.22804798, -0.05805338],\n",
       "              [ 0.02668468,  0.02247892,  0.0249459 , ...,  0.13263454,\n",
       "                0.0464222 , -0.06052778],\n",
       "              [ 0.05530905,  0.04079893, -0.14192334, ...,  0.02740686,\n",
       "                0.09734877, -0.05561657],\n",
       "              ...,\n",
       "              [-0.04832643, -0.01391904, -0.08668603, ...,  0.07140779,\n",
       "               -0.04545869,  0.19002554],\n",
       "              [-0.5931651 , -0.5836111 ,  0.1076362 , ..., -0.20520453,\n",
       "               -0.570927  ,  0.09951309],\n",
       "              [-0.02840189, -0.04307826, -0.02724361, ..., -0.05104389,\n",
       "               -0.03032061,  0.1148463 ]], dtype=float32)              ,\n",
       "       array([-1.0050914 , -1.0381798 ,  0.39886555, ..., -0.18908693,\n",
       "              -1.0260984 ,  0.35503134], dtype=float32)               ,\n",
       "       array([[-0.02431124, -0.09765542, -0.09005498, ...,  0.00277845,\n",
       "                0.00976098,  0.00049737],\n",
       "              [ 0.01806323, -0.02832363, -0.08532218, ...,  0.00255085,\n",
       "               -0.06437378, -0.0426612 ],\n",
       "              [-0.1338857 , -0.06775512, -0.05357207, ..., -0.02799757,\n",
       "                0.00850806,  0.00651116],\n",
       "              ...,\n",
       "              [ 0.15440369, -0.02115   , -0.06608834, ..., -0.02502645,\n",
       "               -0.2142086 , -0.16756536],\n",
       "              [ 0.0364055 ,  0.00707779,  0.05345979, ...,  0.03903622,\n",
       "               -0.09768691,  0.02439441],\n",
       "              [ 0.05081704, -0.02342124,  0.06587043, ...,  0.07671847,\n",
       "                0.09349718, -0.00080311]], dtype=float32)              ,\n",
       "       array([[-0.07513709, -0.18873513, -0.33976635, ...,  0.06046906,\n",
       "               -0.24274816, -0.10700942],\n",
       "              [-0.20385644,  0.03960542, -0.13029099, ...,  0.06537491,\n",
       "               -0.21946007, -0.14518936],\n",
       "              [-0.02869915,  0.00196566, -0.19289674, ..., -0.00426701,\n",
       "                0.08467024, -0.12425967],\n",
       "              ...,\n",
       "              [-0.04843573,  0.2368703 , -0.19317614, ...,  0.14036053,\n",
       "               -0.08226024,  0.15371814],\n",
       "              [ 0.05998825,  0.00701096, -0.04783013, ..., -0.11533036,\n",
       "                0.17682351, -0.11193141],\n",
       "              [ 0.21956155, -0.02389147, -0.08794712, ..., -0.24233091,\n",
       "               -0.13673012, -0.13222347]], dtype=float32)              ,\n",
       "       array([[-0.07523933, -0.03438777, -0.20458807, ..., -0.20950598,\n",
       "                0.00583887, -0.07965066],\n",
       "              [-0.07623731,  0.06863374,  0.02124739, ..., -0.17009063,\n",
       "               -0.01943108,  0.26920313],\n",
       "              [ 0.01279062, -0.0396763 ,  0.05355033, ..., -0.00322201,\n",
       "                0.12138335,  0.2904053 ],\n",
       "              ...,\n",
       "              [-0.05401826, -0.08339249,  0.16899167, ..., -0.2216568 ,\n",
       "                0.04973384,  0.06598781],\n",
       "              [-0.06448467,  0.1192833 , -0.11815008, ...,  0.03418458,\n",
       "               -0.11690888, -0.21600366],\n",
       "              [ 0.18805152,  0.02204342, -0.43119758, ..., -0.08952733,\n",
       "                0.10503848, -0.25633553]], dtype=float32)              ,\n",
       "       array([[ 0.07239105,  0.22810288,  0.25825512, ..., -0.10593279,\n",
       "               -0.05587263, -0.07093959],\n",
       "              [ 0.07239105,  0.22810288,  0.25825512, ..., -0.15645066,\n",
       "               -0.03854786, -0.16035499]], dtype=float32)              ,\n",
       "       array([[ 0.15152992,  0.18056642,  0.09532376, ...,  0.160932  ,\n",
       "               -0.25354275, -0.05009378],\n",
       "              [-0.1306715 ,  0.0782421 , -0.00058648, ...,  0.03984609,\n",
       "               -0.15017779,  0.32765564],\n",
       "              [-0.30693826, -0.13866168, -0.07784258, ..., -0.0549832 ,\n",
       "               -0.16934124,  0.12665819],\n",
       "              ...,\n",
       "              [ 0.04187643,  0.05840724, -0.01611215, ...,  0.07810076,\n",
       "                0.11694203,  0.20737028],\n",
       "              [-0.14160678, -0.15102367, -0.00889802, ...,  0.1301126 ,\n",
       "                0.15292002, -0.14264451],\n",
       "              [ 0.03750066,  0.04275627,  0.02664702, ...,  0.02467002,\n",
       "               -0.00443086,  0.118717  ]], dtype=float32)              ,\n",
       "       array([[-0.46362826,  0.17634752,  0.00175411, ...,  0.10554556,\n",
       "               -0.10385021, -0.15687361],\n",
       "              [ 0.08595375, -0.29437783, -0.02297613, ..., -0.03973901,\n",
       "                0.01767742, -0.15244806],\n",
       "              [-0.12777573,  0.08273105,  0.10154349, ..., -0.07019752,\n",
       "                0.10403822,  0.00801058],\n",
       "              ...,\n",
       "              [-0.1488707 , -0.0415464 ,  0.15997861, ..., -0.25631046,\n",
       "               -0.18830112,  0.00486932],\n",
       "              [ 0.28890777, -0.13594006, -0.18195562, ...,  0.11387202,\n",
       "               -0.05019261,  0.06997121],\n",
       "              [-0.10398711, -0.1275457 ,  0.10666223, ...,  0.07714069,\n",
       "                0.00895584, -0.05501002]], dtype=float32)              ,\n",
       "       array([[ 0.21509968,  0.13531597,  0.09152216, ..., -0.14266819,\n",
       "                0.10162503, -0.04923423],\n",
       "              [ 0.21509968,  0.13531597,  0.09152216, ..., -0.14628212,\n",
       "                0.03176482, -0.20319533]], dtype=float32)              ,\n",
       "       array([[-7.43820444e-02,  9.38657322e-05,  9.55254138e-02, ...,\n",
       "               -1.38843372e-01,  3.32155265e-02, -5.96790388e-02],\n",
       "              [ 5.41401841e-02,  3.21476907e-01, -5.76508492e-02, ...,\n",
       "                1.95380710e-02,  5.09164762e-03, -1.49786219e-01],\n",
       "              [-3.55699956e-02, -2.87794441e-01,  9.44143981e-02, ...,\n",
       "                3.24740820e-03,  5.48390225e-02,  1.33826107e-01],\n",
       "              ...,\n",
       "              [-1.03511505e-01,  2.69473761e-01, -2.96609458e-02, ...,\n",
       "                4.71763685e-02,  3.59841175e-02, -6.94799721e-02],\n",
       "              [ 1.18783548e-01,  1.88619763e-01,  2.84274220e-01, ...,\n",
       "                9.99411717e-02, -7.74030760e-02,  1.26234964e-01],\n",
       "              [ 1.47731751e-01, -1.24370093e-02, -2.64429480e-01, ...,\n",
       "               -1.12158880e-01,  1.25467777e-02,  4.15124856e-02]], dtype=float32),\n",
       "       array([[-0.19634743,  0.01443281,  0.19728808, ..., -0.06895348,\n",
       "               -0.10406807, -0.00643199],\n",
       "              [ 0.19224858,  0.19744898, -0.14032935, ...,  0.12383267,\n",
       "               -0.08295261, -0.02109985],\n",
       "              [ 0.14273976, -0.04096467, -0.11767395, ..., -0.19965574,\n",
       "               -0.04051157, -0.04512738],\n",
       "              ...,\n",
       "              [-0.04456523,  0.20829226, -0.08449426, ..., -0.00111157,\n",
       "                0.06883533, -0.02834478],\n",
       "              [ 0.09965811, -0.06296817, -0.0591506 , ...,  0.03764872,\n",
       "               -0.13555816,  0.04416991],\n",
       "              [ 0.04797709,  0.06818162,  0.10880196, ..., -0.05519174,\n",
       "               -0.07279276,  0.02606366]], dtype=float32)              ,\n",
       "       array([[ 0.3468038 ,  0.29195234,  0.19101843, ...,  0.25714904,\n",
       "               -0.06642251, -0.03680531],\n",
       "              [ 0.3468038 ,  0.29195234,  0.19101843, ...,  0.17579369,\n",
       "               -0.2051291 , -0.04474879]], dtype=float32)              ],\n",
       "      dtype=object)"
      ]
     },
     "execution_count": 16,
     "metadata": {},
     "output_type": "execute_result"
    }
   ],
   "source": [
    "npz['params']"
   ]
  },
  {
   "cell_type": "code",
   "execution_count": 17,
   "metadata": {},
   "outputs": [
    {
     "name": "stdout",
     "output_type": "stream",
     "text": [
      "(21,)\n"
     ]
    }
   ],
   "source": [
    "print(npz['params'].shape)"
   ]
  },
  {
   "cell_type": "code",
   "execution_count": 18,
   "metadata": {},
   "outputs": [
    {
     "data": {
      "text/plain": [
       "[<tf.Variable 'UnreadVariable' shape=(1024, 768) dtype=float32, numpy=\n",
       " array([[-0.10055935, -0.33314782,  0.00701442, ...,  0.09860136,\n",
       "          0.15007073, -0.05226222],\n",
       "        [ 0.07286207,  0.24003172,  0.03290554, ..., -0.08757132,\n",
       "          0.18949363, -0.18126886],\n",
       "        [ 0.00704551,  0.1703544 ,  0.10520507, ...,  0.0008816 ,\n",
       "         -0.10193058,  0.08364528],\n",
       "        ...,\n",
       "        [-0.09227795,  0.4044721 , -0.0742581 , ...,  0.09593895,\n",
       "         -0.148178  ,  0.05280496],\n",
       "        [-0.00868996, -0.22137943, -0.17080946, ..., -0.11631478,\n",
       "         -0.0565454 ,  0.04014151],\n",
       "        [ 0.14837095,  0.04824803, -0.13587292, ..., -0.08375482,\n",
       "          0.25499883, -0.05871639]], dtype=float32)>,\n",
       " <tf.Variable 'UnreadVariable' shape=(256, 768) dtype=float32, numpy=\n",
       " array([[-0.04944015, -0.12472489,  0.00115804, ...,  0.03284711,\n",
       "          0.06106395, -0.04631912],\n",
       "        [ 0.13042727,  0.1995454 , -0.34676737, ..., -0.02441607,\n",
       "         -0.08482856,  0.3381039 ],\n",
       "        [-0.05265179,  0.20616782, -0.08949872, ...,  0.15157096,\n",
       "          0.2384342 , -0.31688341],\n",
       "        ...,\n",
       "        [ 0.09132354,  0.04973275,  0.02387712, ..., -0.29471582,\n",
       "          0.04327432,  0.104831  ],\n",
       "        [ 0.01904734,  0.02150358,  0.11006165, ...,  0.04194252,\n",
       "         -0.07261643, -0.221363  ],\n",
       "        [ 0.10013793, -0.04225086, -0.29217464, ..., -0.03367024,\n",
       "         -0.09955626, -0.26857457]], dtype=float32)>,\n",
       " <tf.Variable 'UnreadVariable' shape=(2, 768) dtype=float32, numpy=\n",
       " array([[ 0.07492748, -0.10443871, -0.21347767, ..., -0.09240436,\n",
       "         -0.0240439 ,  0.22746488],\n",
       "        [ 0.07492748, -0.10443871, -0.21347767, ...,  0.05825504,\n",
       "          0.1123062 ,  0.16327462]], dtype=float32)>,\n",
       " <tf.Variable 'UnreadVariable' shape=(256, 768) dtype=float32, numpy=\n",
       " array([[-0.09336518,  0.10807127,  0.03824946, ..., -0.20698991,\n",
       "          0.01215487, -0.0600987 ],\n",
       "        [-0.10671911, -0.10520785,  0.20291586, ...,  0.03990201,\n",
       "          0.22937532, -0.1812152 ],\n",
       "        [-0.02843676, -0.02390133, -0.13818982, ..., -0.06007613,\n",
       "         -0.03255777,  0.05660109],\n",
       "        ...,\n",
       "        [-0.02538318, -0.06930659,  0.20861177, ..., -0.05112372,\n",
       "         -0.19690481, -0.0056064 ],\n",
       "        [ 0.14452519, -0.24149857, -0.14348735, ..., -0.38531756,\n",
       "         -0.21215504, -0.0723122 ],\n",
       "        [ 0.0812692 ,  0.04403242, -0.14825131, ...,  0.04327079,\n",
       "          0.20484343,  0.07534637]], dtype=float32)>,\n",
       " <tf.Variable 'UnreadVariable' shape=(256, 768) dtype=float32, numpy=\n",
       " array([[ 0.13628486,  0.14496124,  0.09749617, ...,  0.08834191,\n",
       "         -0.14467832,  0.21646743],\n",
       "        [-0.14989436, -0.01557839, -0.05704055, ...,  0.29189214,\n",
       "          0.06838638,  0.01414303],\n",
       "        [-0.03889264,  0.11077551,  0.0298271 , ..., -0.17238657,\n",
       "         -0.08333439,  0.02416268],\n",
       "        ...,\n",
       "        [ 0.04331504,  0.00814716, -0.20227583, ..., -0.45032823,\n",
       "          0.15905875,  0.06580957],\n",
       "        [-0.09352452,  0.17209455,  0.0294272 , ..., -0.01918366,\n",
       "          0.03531177, -0.1358177 ],\n",
       "        [ 0.02797555, -0.15796323, -0.14259261, ...,  0.04686752,\n",
       "          0.18618044, -0.11728527]], dtype=float32)>,\n",
       " <tf.Variable 'UnreadVariable' shape=(2, 768) dtype=float32, numpy=\n",
       " array([[ 0.1168428 , -0.11783458, -0.06569002, ...,  0.01467088,\n",
       "         -0.00858521, -0.02021392],\n",
       "        [ 0.1168428 , -0.11783458, -0.06569002, ..., -0.05638016,\n",
       "         -0.08231813, -0.01185258]], dtype=float32)>,\n",
       " <tf.Variable 'UnreadVariable' shape=(256, 768) dtype=float32, numpy=\n",
       " array([[-0.16974911, -0.0782019 , -0.05485604, ...,  0.09547483,\n",
       "          0.05997353,  0.02745447],\n",
       "        [ 0.05063732, -0.2132158 , -0.08233715, ...,  0.04813366,\n",
       "          0.1270591 , -0.18542123],\n",
       "        [-0.05358334,  0.13763343,  0.11234105, ..., -0.05916833,\n",
       "         -0.2430044 ,  0.06221379],\n",
       "        ...,\n",
       "        [-0.00220917,  0.0943102 ,  0.03217679, ..., -0.19440453,\n",
       "          0.0625164 ,  0.16264649],\n",
       "        [-0.02910926, -0.10570113,  0.01401507, ...,  0.1411386 ,\n",
       "         -0.04488238,  0.02307914],\n",
       "        [ 0.1383466 ,  0.07959765, -0.06120022, ..., -0.06403831,\n",
       "          0.08091307, -0.22818673]], dtype=float32)>,\n",
       " <tf.Variable 'UnreadVariable' shape=(256, 768) dtype=float32, numpy=\n",
       " array([[-0.27613658, -0.08751423,  0.04388037, ..., -0.00460313,\n",
       "          0.0550828 , -0.01665833],\n",
       "        [ 0.11230044, -0.60317665,  0.0088325 , ...,  0.03204133,\n",
       "         -0.0271577 , -0.00541943],\n",
       "        [ 0.20358787, -0.04101531, -0.11986247, ...,  0.16527133,\n",
       "          0.2559933 ,  0.10325795],\n",
       "        ...,\n",
       "        [ 0.01939603,  0.0401411 , -0.05310873, ..., -0.15914518,\n",
       "         -0.07706928,  0.19433431],\n",
       "        [ 0.08256488,  0.0552596 , -0.06717859, ...,  0.00080149,\n",
       "          0.08582321,  0.13549146],\n",
       "        [-0.15626909,  0.04665393, -0.04875161, ..., -0.16343848,\n",
       "          0.00541004, -0.39014858]], dtype=float32)>,\n",
       " <tf.Variable 'UnreadVariable' shape=(2, 768) dtype=float32, numpy=\n",
       " array([[ 0.02473022,  0.06337144, -0.18573906, ...,  0.05219796,\n",
       "          0.08489458,  0.09964863],\n",
       "        [ 0.02473022,  0.06337144, -0.18573906, ...,  0.100264  ,\n",
       "          0.03722429,  0.04567157]], dtype=float32)>,\n",
       " <tf.Variable 'UnreadVariable' shape=(256, 8004) dtype=float32, numpy=\n",
       " array([[ 0.21079655,  0.26213792, -0.07218412, ...,  0.15950471,\n",
       "          0.22804798, -0.05805338],\n",
       "        [ 0.02668468,  0.02247892,  0.0249459 , ...,  0.13263454,\n",
       "          0.0464222 , -0.06052778],\n",
       "        [ 0.05530905,  0.04079893, -0.14192334, ...,  0.02740686,\n",
       "          0.09734877, -0.05561657],\n",
       "        ...,\n",
       "        [-0.04832643, -0.01391904, -0.08668603, ...,  0.07140779,\n",
       "         -0.04545869,  0.19002554],\n",
       "        [-0.5931651 , -0.5836111 ,  0.1076362 , ..., -0.20520453,\n",
       "         -0.570927  ,  0.09951309],\n",
       "        [-0.02840189, -0.04307826, -0.02724361, ..., -0.05104389,\n",
       "         -0.03032061,  0.1148463 ]], dtype=float32)>,\n",
       " <tf.Variable 'UnreadVariable' shape=(8004,) dtype=float32, numpy=\n",
       " array([-1.0050914 , -1.0381798 ,  0.39886555, ..., -0.18908693,\n",
       "        -1.0260984 ,  0.35503134], dtype=float32)>,\n",
       " <tf.Variable 'UnreadVariable' shape=(8004, 1024) dtype=float32, numpy=\n",
       " array([[-0.02431124, -0.09765542, -0.09005498, ...,  0.00277845,\n",
       "          0.00976098,  0.00049737],\n",
       "        [ 0.01806323, -0.02832363, -0.08532218, ...,  0.00255085,\n",
       "         -0.06437378, -0.0426612 ],\n",
       "        [-0.1338857 , -0.06775512, -0.05357207, ..., -0.02799757,\n",
       "          0.00850806,  0.00651116],\n",
       "        ...,\n",
       "        [ 0.15440369, -0.02115   , -0.06608834, ..., -0.02502645,\n",
       "         -0.2142086 , -0.16756536],\n",
       "        [ 0.0364055 ,  0.00707779,  0.05345979, ...,  0.03903622,\n",
       "         -0.09768691,  0.02439441],\n",
       "        [ 0.05081704, -0.02342124,  0.06587043, ...,  0.07671847,\n",
       "          0.09349718, -0.00080311]], dtype=float32)>,\n",
       " <tf.Variable 'UnreadVariable' shape=(1024, 768) dtype=float32, numpy=\n",
       " array([[-0.07513709, -0.18873513, -0.33976635, ...,  0.06046906,\n",
       "         -0.24274816, -0.10700942],\n",
       "        [-0.20385644,  0.03960542, -0.13029099, ...,  0.06537491,\n",
       "         -0.21946007, -0.14518936],\n",
       "        [-0.02869915,  0.00196566, -0.19289674, ..., -0.00426701,\n",
       "          0.08467024, -0.12425967],\n",
       "        ...,\n",
       "        [-0.04843573,  0.2368703 , -0.19317614, ...,  0.14036053,\n",
       "         -0.08226024,  0.15371814],\n",
       "        [ 0.05998825,  0.00701096, -0.04783013, ..., -0.11533036,\n",
       "          0.17682351, -0.11193141],\n",
       "        [ 0.21956155, -0.02389147, -0.08794712, ..., -0.24233091,\n",
       "         -0.13673012, -0.13222347]], dtype=float32)>,\n",
       " <tf.Variable 'UnreadVariable' shape=(256, 768) dtype=float32, numpy=\n",
       " array([[-0.07523933, -0.03438777, -0.20458807, ..., -0.20950598,\n",
       "          0.00583887, -0.07965066],\n",
       "        [-0.07623731,  0.06863374,  0.02124739, ..., -0.17009063,\n",
       "         -0.01943108,  0.26920313],\n",
       "        [ 0.01279062, -0.0396763 ,  0.05355033, ..., -0.00322201,\n",
       "          0.12138335,  0.2904053 ],\n",
       "        ...,\n",
       "        [-0.05401826, -0.08339249,  0.16899167, ..., -0.2216568 ,\n",
       "          0.04973384,  0.06598781],\n",
       "        [-0.06448467,  0.1192833 , -0.11815008, ...,  0.03418458,\n",
       "         -0.11690888, -0.21600366],\n",
       "        [ 0.18805152,  0.02204342, -0.43119758, ..., -0.08952733,\n",
       "          0.10503848, -0.25633553]], dtype=float32)>,\n",
       " <tf.Variable 'UnreadVariable' shape=(2, 768) dtype=float32, numpy=\n",
       " array([[ 0.07239105,  0.22810288,  0.25825512, ..., -0.10593279,\n",
       "         -0.05587263, -0.07093959],\n",
       "        [ 0.07239105,  0.22810288,  0.25825512, ..., -0.15645066,\n",
       "         -0.03854786, -0.16035499]], dtype=float32)>,\n",
       " <tf.Variable 'UnreadVariable' shape=(256, 768) dtype=float32, numpy=\n",
       " array([[ 0.15152992,  0.18056642,  0.09532376, ...,  0.160932  ,\n",
       "         -0.25354275, -0.05009378],\n",
       "        [-0.1306715 ,  0.0782421 , -0.00058648, ...,  0.03984609,\n",
       "         -0.15017779,  0.32765564],\n",
       "        [-0.30693826, -0.13866168, -0.07784258, ..., -0.0549832 ,\n",
       "         -0.16934124,  0.12665819],\n",
       "        ...,\n",
       "        [ 0.04187643,  0.05840724, -0.01611215, ...,  0.07810076,\n",
       "          0.11694203,  0.20737028],\n",
       "        [-0.14160678, -0.15102367, -0.00889802, ...,  0.1301126 ,\n",
       "          0.15292002, -0.14264451],\n",
       "        [ 0.03750066,  0.04275627,  0.02664702, ...,  0.02467002,\n",
       "         -0.00443086,  0.118717  ]], dtype=float32)>,\n",
       " <tf.Variable 'UnreadVariable' shape=(256, 768) dtype=float32, numpy=\n",
       " array([[-0.46362826,  0.17634752,  0.00175411, ...,  0.10554556,\n",
       "         -0.10385021, -0.15687361],\n",
       "        [ 0.08595375, -0.29437783, -0.02297613, ..., -0.03973901,\n",
       "          0.01767742, -0.15244806],\n",
       "        [-0.12777573,  0.08273105,  0.10154349, ..., -0.07019752,\n",
       "          0.10403822,  0.00801058],\n",
       "        ...,\n",
       "        [-0.1488707 , -0.0415464 ,  0.15997861, ..., -0.25631046,\n",
       "         -0.18830112,  0.00486932],\n",
       "        [ 0.28890777, -0.13594006, -0.18195562, ...,  0.11387202,\n",
       "         -0.05019261,  0.06997121],\n",
       "        [-0.10398711, -0.1275457 ,  0.10666223, ...,  0.07714069,\n",
       "          0.00895584, -0.05501002]], dtype=float32)>,\n",
       " <tf.Variable 'UnreadVariable' shape=(2, 768) dtype=float32, numpy=\n",
       " array([[ 0.21509968,  0.13531597,  0.09152216, ..., -0.14266819,\n",
       "          0.10162503, -0.04923423],\n",
       "        [ 0.21509968,  0.13531597,  0.09152216, ..., -0.14628212,\n",
       "          0.03176482, -0.20319533]], dtype=float32)>,\n",
       " <tf.Variable 'UnreadVariable' shape=(256, 768) dtype=float32, numpy=\n",
       " array([[-7.43820444e-02,  9.38657322e-05,  9.55254138e-02, ...,\n",
       "         -1.38843372e-01,  3.32155265e-02, -5.96790388e-02],\n",
       "        [ 5.41401841e-02,  3.21476907e-01, -5.76508492e-02, ...,\n",
       "          1.95380710e-02,  5.09164762e-03, -1.49786219e-01],\n",
       "        [-3.55699956e-02, -2.87794441e-01,  9.44143981e-02, ...,\n",
       "          3.24740820e-03,  5.48390225e-02,  1.33826107e-01],\n",
       "        ...,\n",
       "        [-1.03511505e-01,  2.69473761e-01, -2.96609458e-02, ...,\n",
       "          4.71763685e-02,  3.59841175e-02, -6.94799721e-02],\n",
       "        [ 1.18783548e-01,  1.88619763e-01,  2.84274220e-01, ...,\n",
       "          9.99411717e-02, -7.74030760e-02,  1.26234964e-01],\n",
       "        [ 1.47731751e-01, -1.24370093e-02, -2.64429480e-01, ...,\n",
       "         -1.12158880e-01,  1.25467777e-02,  4.15124856e-02]], dtype=float32)>,\n",
       " <tf.Variable 'UnreadVariable' shape=(256, 768) dtype=float32, numpy=\n",
       " array([[-0.19634743,  0.01443281,  0.19728808, ..., -0.06895348,\n",
       "         -0.10406807, -0.00643199],\n",
       "        [ 0.19224858,  0.19744898, -0.14032935, ...,  0.12383267,\n",
       "         -0.08295261, -0.02109985],\n",
       "        [ 0.14273976, -0.04096467, -0.11767395, ..., -0.19965574,\n",
       "         -0.04051157, -0.04512738],\n",
       "        ...,\n",
       "        [-0.04456523,  0.20829226, -0.08449426, ..., -0.00111157,\n",
       "          0.06883533, -0.02834478],\n",
       "        [ 0.09965811, -0.06296817, -0.0591506 , ...,  0.03764872,\n",
       "         -0.13555816,  0.04416991],\n",
       "        [ 0.04797709,  0.06818162,  0.10880196, ..., -0.05519174,\n",
       "         -0.07279276,  0.02606366]], dtype=float32)>,\n",
       " <tf.Variable 'UnreadVariable' shape=(2, 768) dtype=float32, numpy=\n",
       " array([[ 0.3468038 ,  0.29195234,  0.19101843, ...,  0.25714904,\n",
       "         -0.06642251, -0.03680531],\n",
       "        [ 0.3468038 ,  0.29195234,  0.19101843, ...,  0.17579369,\n",
       "         -0.2051291 , -0.04474879]], dtype=float32)>]"
      ]
     },
     "execution_count": 18,
     "metadata": {},
     "output_type": "execute_result"
    }
   ],
   "source": [
    "load_weights = tl.files.load_npz(name='model.npz')\n",
    "tl.files.assign_weights(load_weights, model_)"
   ]
  },
  {
   "cell_type": "code",
   "execution_count": 32,
   "metadata": {},
   "outputs": [
    {
     "data": {
      "text/plain": [
       "['i', 'know', 'but', 'i', 'dont', 'know']"
      ]
     },
     "execution_count": 32,
     "metadata": {},
     "output_type": "execute_result"
    }
   ],
   "source": [
    "inference('are you ok',top_n)"
   ]
  },
  {
   "cell_type": "code",
   "execution_count": null,
   "metadata": {},
   "outputs": [],
   "source": []
  }
 ],
 "metadata": {
  "accelerator": "GPU",
  "colab": {
   "collapsed_sections": [],
   "name": "deployment-of-chatbot.ipynb",
   "provenance": []
  },
  "kernelspec": {
   "display_name": "Python 3 (ipykernel)",
   "language": "python",
   "name": "python3"
  },
  "language_info": {
   "codemirror_mode": {
    "name": "ipython",
    "version": 3
   },
   "file_extension": ".py",
   "mimetype": "text/x-python",
   "name": "python",
   "nbconvert_exporter": "python",
   "pygments_lexer": "ipython3",
   "version": "3.9.6"
  },
  "toc-autonumbering": true
 },
 "nbformat": 4,
 "nbformat_minor": 4
}